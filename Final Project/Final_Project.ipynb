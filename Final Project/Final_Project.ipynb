{
  "nbformat": 4,
  "nbformat_minor": 0,
  "metadata": {
    "colab": {
      "name": "Final_Project.ipynb",
      "provenance": [],
      "collapsed_sections": []
    },
    "kernelspec": {
      "name": "python3",
      "display_name": "Python 3"
    }
  },
  "cells": [
    {
      "cell_type": "markdown",
      "metadata": {
        "id": "_X0IHIr-fB5i"
      },
      "source": [
        "#**Project**\r\n",
        "\r\n",
        "In this project, our aim is to building a model for predicting wine qualities. Our label will be quality column. Do not forget, this is a Classification problem!\r\n",
        "\r\n",
        "##**Steps**\r\n",
        "\r\n",
        "* Read the winequality.csv file and describe it.\r\n",
        "* Make at least 4 different analysis on Exploratory Data Analysis section.\r\n",
        "* Pre-process the dataset to get ready for ML application. (Check missing data and handle them, can we need to do scaling or feature extraction etc.)\r\n",
        "* Define appropriate evaluation metric for our case (classification).\r\n",
        "* Train and evaluate Decision Trees and at least 2 different appropriate algorithm which you can choose from scikit-learn library.\r\n",
        "* Check if is there any overfitting and underfitting. Interpret your results and try to overcome if there is any problem in a new section.\r\n",
        "* Create confusion metrics for each algorithm and display Accuracy, Recall, Precision and F1-Score values.\r\n",
        "* Analyse and compare results of 3 algorithms.\r\n",
        "* Select best performing model based on evaluation metric you chose on test dataset.\r\n",
        "\r\n",
        "##***Hüseyin Şahin, huseyinsahn@gmail.com***\r\n",
        "\r\n",
        "\r\n",
        "\r\n",
        "\r\n",
        "\r\n"
      ]
    }
  ]
}