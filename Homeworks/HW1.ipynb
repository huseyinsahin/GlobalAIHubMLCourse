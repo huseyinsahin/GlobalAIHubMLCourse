{
  "nbformat": 4,
  "nbformat_minor": 0,
  "metadata": {
    "colab": {
      "name": "HW1.ipynb",
      "provenance": [],
      "collapsed_sections": []
    },
    "kernelspec": {
      "name": "python3",
      "display_name": "Python 3"
    }
  },
  "cells": [
    {
      "cell_type": "markdown",
      "metadata": {
        "id": "jdiI11UnISnu"
      },
      "source": [
        "**1)\tHow would you define Machine Learning?**\r\n",
        "\r\n",
        "With machine learning, we input data as well as the answers expected from the data, and out come the rules. These rules can then be applied to new data to produce original answers.A machine-learning system is trained rather than explicitly programmed. It’s presented with many examples relevant to a task, and it finds statistical structure in these examples that eventually allows the system to come up with rules for automating the task. For instance, if you wished to automate the task of tagging your vacation pictures, you could present a machine-learning system with many examples of pictures already tagged by humans, and the system would learn statistical rules for associating specific pictures to specific tags.\r\n",
        "\r\n",
        "**2)\tWhat are the differences between Supervised and Unsupervised Learning? Specify example 3 algorithms for each of these.**\r\n",
        "\r\n",
        "Supervised learning is trained using labeled data, while unsupervised learning is trained using unlabeled data. Supervised learning model receives direct feedback to check whether it predicts the correct output; but unsupervised learning model does not get any feedback. Supervised learning model predicts the output while unsupervised learning model finds hidden patterns in the data. Supervised learning needs supervision to train the model while unsupervised learning does not need any supervision to train the model. Supervised learning can be categorized in Classification and Regression problems while unsupervised Learning can be classified in Clustering and Associations problems. Supervised learning can be used for those cases where we know the input as well as corresponding outputs while unsupervised learning can be used for those cases where we have only input data and no corresponding output data.Supervised learning model produces an accurate result while unsupervised learning model may give less accurate result as compared to supervised learning.\r\n",
        "\r\n",
        "***Supervised Algorithms***\r\n",
        "\r\n",
        "*   Linear Regression\r\n",
        "*   Decision tree\r\n",
        "*   Support Vector Machine\r\n",
        "\r\n",
        "\r\n",
        "\r\n",
        "***Unsupervised Algorithms***\r\n",
        "\r\n",
        "*   Clustering\r\n",
        "*   KNN\r\n",
        "*   Apriori\r\n",
        "\r\n",
        "**3) What are the test and validation set, and why would you want to use them?**\r\n",
        "\r\n",
        "**4) What are the main preprocessing steps? Explain them in detail. Why we need to prepare our data?**\r\n",
        "\r\n",
        "**5) How you can explore countionus and discrete variables?**\r\n",
        "\r\n",
        "**6) Analyse the plot given below. (What is the plot and variable type, check the distribution and make comment about how you can preproccess it.)**\r\n"
      ]
    }
  ]
}