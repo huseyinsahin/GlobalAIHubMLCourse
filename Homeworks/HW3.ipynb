{
  "nbformat": 4,
  "nbformat_minor": 0,
  "metadata": {
    "colab": {
      "name": "HW3.ipynb",
      "provenance": [],
      "collapsed_sections": []
    },
    "kernelspec": {
      "display_name": "Python 3",
      "language": "python",
      "name": "python3"
    },
    "language_info": {
      "codemirror_mode": {
        "name": "ipython",
        "version": 3
      },
      "file_extension": ".py",
      "mimetype": "text/x-python",
      "name": "python",
      "nbconvert_exporter": "python",
      "pygments_lexer": "ipython3",
      "version": "3.7.1"
    }
  },
  "cells": [
    {
      "cell_type": "markdown",
      "metadata": {
        "id": "6yEdKXsAHTEm"
      },
      "source": [
        "**HOMEWORK-3**\n",
        "\n",
        "*   Generate dataset using make_blobs function in the sklearn.datasets class.Generate 2000 samples with 3 features (X) with one label (y).\n",
        "*   Explore and analyse raw data.\n",
        "*   Do preprocessing for classification.\n",
        "*   Split your dataset into train and test test (0.7 for train and 0.3 for test).\n",
        "*   Try Decision Tree and XGBoost Algorithm with different hyperparameters. (Using GridSearchCV is a plus)\n",
        "*   Evaluate your result on both train and test set. Analyse if there is any underfitting or overfitting problem. Make your comments."
      ]
    },
    {
      "cell_type": "code",
      "metadata": {
        "id": "S5lDZUOQH5t_"
      },
      "source": [
        "# Creating the dataset using the make_blobs function in the sklearn.datasets class.\n",
        "from sklearn.datasets import make_blobs"
      ],
      "execution_count": null,
      "outputs": []
    },
    {
      "cell_type": "code",
      "metadata": {
        "colab": {
          "base_uri": "https://localhost:8080/"
        },
        "id": "TqnL30xTMs_1",
        "outputId": "3db58215-c853-48b2-cd86-b068ca51cf79"
      },
      "source": [
        "# Creating 2000 samples with 3 features (X) with one label (y)\n",
        "X, y = make_blobs(n_samples=2000, centers=None, n_features=3,random_state=0)\n",
        "print(X.shape)"
      ],
      "execution_count": null,
      "outputs": [
        {
          "output_type": "stream",
          "text": [
            "(2000, 3)\n"
          ],
          "name": "stdout"
        }
      ]
    },
    {
      "cell_type": "code",
      "metadata": {
        "colab": {
          "base_uri": "https://localhost:8080/",
          "height": 202
        },
        "id": "cxc_EHDINTCF",
        "outputId": "639a216c-23c4-4d22-86f2-912f41459da9"
      },
      "source": [
        "# Exploring and analysing raw data.\n",
        "import numpy as np\n",
        "import pandas as pd\n",
        "from pandas import DataFrame\n",
        "from matplotlib import pyplot\n",
        "\n",
        "df_blobs = DataFrame(dict(x=X[:,0], y=X[:,1],z=X[:,2], label=y))\n",
        "df_blobs.head()\n",
        "\n",
        "colors = {0:'red', 1:'blue', 2:'green'}\n",
        "fig, ax = pyplot.subplots()\n",
        "grouped = df_blobs.groupby('label')\n",
        "for key, group in grouped:\n",
        "    group.plot(ax=ax, kind='scatter', x='x', y='y', label=key, color=colors[key])\n",
        "pyplot.show()"
      ],
      "execution_count": null,
      "outputs": [
        {
          "output_type": "display_data",
          "data": {
            "image/png": "[encoded data removed]",
            "text/plain": [
              "<Figure size 432x288 with 1 Axes>"
            ]
          },
          "metadata": {
            "tags": [],
            "needs_background": "light"
          }
        }
      ]
    },
    {
      "cell_type": "code",
      "metadata": {
        "colab": {
          "base_uri": "https://localhost:8080/"
        },
        "id": "Q6ssp0HBOnrg",
        "outputId": "31fe01a6-0631-4adc-b8b3-0e932cbd9e89"
      },
      "source": [
        "df_blobs.info()"
      ],
      "execution_count": null,
      "outputs": [
        {
          "output_type": "stream",
          "text": [
            "<class 'pandas.core.frame.DataFrame'>\n",
            "RangeIndex: 2000 entries, 0 to 1999\n",
            "Data columns (total 4 columns):\n",
            " #   Column  Non-Null Count  Dtype  \n",
            "---  ------  --------------  -----  \n",
            " 0   x       2000 non-null   float64\n",
            " 1   y       2000 non-null   float64\n",
            " 2   z       2000 non-null   float64\n",
            " 3   label   2000 non-null   int32  \n",
            "dtypes: float64(3), int32(1)\n",
            "memory usage: 54.8 KB\n"
          ],
          "name": "stdout"
        }
      ]
    },
    {
      "cell_type": "code",
      "metadata": {
        "colab": {
          "base_uri": "https://localhost:8080/",
          "height": 294
        },
        "id": "oq9rpp5TOw6L",
        "outputId": "2acc54e5-17b7-455a-a5c6-aa0409599bfe"
      },
      "source": [
        "# Viewing the data statistics\n",
        "df_blobs.describe()"
      ],
      "execution_count": null,
      "outputs": [
        {
          "output_type": "execute_result",
          "data": {
            "text/html": [
              "<div>\n",
              "<style scoped>\n",
              "    .dataframe tbody tr th:only-of-type {\n",
              "        vertical-align: middle;\n",
              "    }\n",
              "\n",
              "    .dataframe tbody tr th {\n",
              "        vertical-align: top;\n",
              "    }\n",
              "\n",
              "    .dataframe thead th {\n",
              "        text-align: right;\n",
              "    }\n",
              "</style>\n",
              "<table border=\"1\" class=\"dataframe\">\n",
              "  <thead>\n",
              "    <tr style=\"text-align: right;\">\n",
              "      <th></th>\n",
              "      <th>x</th>\n",
              "      <th>y</th>\n",
              "      <th>z</th>\n",
              "      <th>label</th>\n",
              "    </tr>\n",
              "  </thead>\n",
              "  <tbody>\n",
              "    <tr>\n",
              "      <th>count</th>\n",
              "      <td>2000.000000</td>\n",
              "      <td>2000.000000</td>\n",
              "      <td>2000.000000</td>\n",
              "      <td>2000.000000</td>\n",
              "    </tr>\n",
              "    <tr>\n",
              "      <th>mean</th>\n",
              "      <td>0.240772</td>\n",
              "      <td>3.493821</td>\n",
              "      <td>4.739933</td>\n",
              "      <td>0.999500</td>\n",
              "    </tr>\n",
              "    <tr>\n",
              "      <th>std</th>\n",
              "      <td>1.420266</td>\n",
              "      <td>4.002951</td>\n",
              "      <td>3.407143</td>\n",
              "      <td>0.816599</td>\n",
              "    </tr>\n",
              "    <tr>\n",
              "      <th>min</th>\n",
              "      <td>-4.365209</td>\n",
              "      <td>-5.351844</td>\n",
              "      <td>-1.459501</td>\n",
              "      <td>0.000000</td>\n",
              "    </tr>\n",
              "    <tr>\n",
              "      <th>25%</th>\n",
              "      <td>-0.758331</td>\n",
              "      <td>-0.964595</td>\n",
              "      <td>2.115543</td>\n",
              "      <td>0.000000</td>\n",
              "    </tr>\n",
              "    <tr>\n",
              "      <th>50%</th>\n",
              "      <td>0.381250</td>\n",
              "      <td>4.278380</td>\n",
              "      <td>3.208216</td>\n",
              "      <td>1.000000</td>\n",
              "    </tr>\n",
              "    <tr>\n",
              "      <th>75%</th>\n",
              "      <td>1.244579</td>\n",
              "      <td>7.137660</td>\n",
              "      <td>8.649354</td>\n",
              "      <td>2.000000</td>\n",
              "    </tr>\n",
              "    <tr>\n",
              "      <th>max</th>\n",
              "      <td>4.077801</td>\n",
              "      <td>11.046691</td>\n",
              "      <td>12.079492</td>\n",
              "      <td>2.000000</td>\n",
              "    </tr>\n",
              "  </tbody>\n",
              "</table>\n",
              "</div>"
            ],
            "text/plain": [
              "                 x            y            z        label\n",
              "count  2000.000000  2000.000000  2000.000000  2000.000000\n",
              "mean      0.240772     3.493821     4.739933     0.999500\n",
              "std       1.420266     4.002951     3.407143     0.816599\n",
              "min      -4.365209    -5.351844    -1.459501     0.000000\n",
              "25%      -0.758331    -0.964595     2.115543     0.000000\n",
              "50%       0.381250     4.278380     3.208216     1.000000\n",
              "75%       1.244579     7.137660     8.649354     2.000000\n",
              "max       4.077801    11.046691    12.079492     2.000000"
            ]
          },
          "metadata": {
            "tags": []
          },
          "execution_count": 141
        }
      ]
    },
    {
      "cell_type": "code",
      "metadata": {
        "colab": {
          "base_uri": "https://localhost:8080/"
        },
        "id": "W9YJQ3LAPC72",
        "outputId": "4c68eaa8-8904-4c9f-ed1d-28337ba88fba"
      },
      "source": [
        "# Checking missing values\n",
        "df_blobs.isna().sum()"
      ],
      "execution_count": null,
      "outputs": [
        {
          "output_type": "execute_result",
          "data": {
            "text/plain": [
              "x        0\n",
              "y        0\n",
              "z        0\n",
              "label    0\n",
              "Label    0\n",
              "dtype: int64"
            ]
          },
          "metadata": {
            "tags": []
          },
          "execution_count": 7
        }
      ]
    },
    {
      "cell_type": "code",
      "metadata": {
        "colab": {
          "base_uri": "https://localhost:8080/",
          "height": 171
        },
        "id": "CTwuIE0kPYjq",
        "outputId": "30e2f98c-3fda-4585-b672-36c68409a67d"
      },
      "source": [
        "df_blobs.groupby(by=\"label\").count()"
      ],
      "execution_count": null,
      "outputs": [
        {
          "output_type": "execute_result",
          "data": {
            "text/html": [
              "<div>\n",
              "<style scoped>\n",
              "    .dataframe tbody tr th:only-of-type {\n",
              "        vertical-align: middle;\n",
              "    }\n",
              "\n",
              "    .dataframe tbody tr th {\n",
              "        vertical-align: top;\n",
              "    }\n",
              "\n",
              "    .dataframe thead th {\n",
              "        text-align: right;\n",
              "    }\n",
              "</style>\n",
              "<table border=\"1\" class=\"dataframe\">\n",
              "  <thead>\n",
              "    <tr style=\"text-align: right;\">\n",
              "      <th></th>\n",
              "      <th>x</th>\n",
              "      <th>y</th>\n",
              "      <th>z</th>\n",
              "      <th>Label</th>\n",
              "    </tr>\n",
              "    <tr>\n",
              "      <th>label</th>\n",
              "      <th></th>\n",
              "      <th></th>\n",
              "      <th></th>\n",
              "      <th></th>\n",
              "    </tr>\n",
              "  </thead>\n",
              "  <tbody>\n",
              "    <tr>\n",
              "      <th>0</th>\n",
              "      <td>667</td>\n",
              "      <td>667</td>\n",
              "      <td>667</td>\n",
              "      <td>667</td>\n",
              "    </tr>\n",
              "    <tr>\n",
              "      <th>1</th>\n",
              "      <td>667</td>\n",
              "      <td>667</td>\n",
              "      <td>667</td>\n",
              "      <td>667</td>\n",
              "    </tr>\n",
              "    <tr>\n",
              "      <th>2</th>\n",
              "      <td>666</td>\n",
              "      <td>666</td>\n",
              "      <td>666</td>\n",
              "      <td>666</td>\n",
              "    </tr>\n",
              "  </tbody>\n",
              "</table>\n",
              "</div>"
            ],
            "text/plain": [
              "         x    y    z  Label\n",
              "label                      \n",
              "0      667  667  667    667\n",
              "1      667  667  667    667\n",
              "2      666  666  666    666"
            ]
          },
          "metadata": {
            "tags": []
          },
          "execution_count": 8
        }
      ]
    },
    {
      "cell_type": "code",
      "metadata": {
        "colab": {
          "base_uri": "https://localhost:8080/",
          "height": 202
        },
        "id": "y9pnnbgZQbTG",
        "outputId": "9be5d4a4-2fc3-4c38-82a9-36c8cbbc907f"
      },
      "source": [
        "# Pre-processing for classification\n",
        "from sklearn.preprocessing import LabelEncoder\n",
        "from sklearn.model_selection import train_test_split\n",
        "from sklearn.metrics import accuracy_score\n",
        "\n",
        "label_encoder = LabelEncoder()\n",
        "df_blobs[\"Label\"] = label_encoder.fit_transform(df_blobs[\"label\"])\n",
        "df_blobs.head()"
      ],
      "execution_count": null,
      "outputs": [
        {
          "output_type": "execute_result",
          "data": {
            "text/html": [
              "<div>\n",
              "<style scoped>\n",
              "    .dataframe tbody tr th:only-of-type {\n",
              "        vertical-align: middle;\n",
              "    }\n",
              "\n",
              "    .dataframe tbody tr th {\n",
              "        vertical-align: top;\n",
              "    }\n",
              "\n",
              "    .dataframe thead th {\n",
              "        text-align: right;\n",
              "    }\n",
              "</style>\n",
              "<table border=\"1\" class=\"dataframe\">\n",
              "  <thead>\n",
              "    <tr style=\"text-align: right;\">\n",
              "      <th></th>\n",
              "      <th>x</th>\n",
              "      <th>y</th>\n",
              "      <th>z</th>\n",
              "      <th>label</th>\n",
              "      <th>Label</th>\n",
              "    </tr>\n",
              "  </thead>\n",
              "  <tbody>\n",
              "    <tr>\n",
              "      <th>0</th>\n",
              "      <td>0.378197</td>\n",
              "      <td>-0.822654</td>\n",
              "      <td>4.412505</td>\n",
              "      <td>1</td>\n",
              "      <td>1</td>\n",
              "    </tr>\n",
              "    <tr>\n",
              "      <th>1</th>\n",
              "      <td>0.112908</td>\n",
              "      <td>8.072768</td>\n",
              "      <td>9.914998</td>\n",
              "      <td>2</td>\n",
              "      <td>2</td>\n",
              "    </tr>\n",
              "    <tr>\n",
              "      <th>2</th>\n",
              "      <td>1.875986</td>\n",
              "      <td>-2.862337</td>\n",
              "      <td>1.955307</td>\n",
              "      <td>1</td>\n",
              "      <td>1</td>\n",
              "    </tr>\n",
              "    <tr>\n",
              "      <th>3</th>\n",
              "      <td>-1.210594</td>\n",
              "      <td>6.876798</td>\n",
              "      <td>9.223306</td>\n",
              "      <td>2</td>\n",
              "      <td>2</td>\n",
              "    </tr>\n",
              "    <tr>\n",
              "      <th>4</th>\n",
              "      <td>2.095730</td>\n",
              "      <td>3.335208</td>\n",
              "      <td>3.288496</td>\n",
              "      <td>0</td>\n",
              "      <td>0</td>\n",
              "    </tr>\n",
              "  </tbody>\n",
              "</table>\n",
              "</div>"
            ],
            "text/plain": [
              "          x         y         z  label  Label\n",
              "0  0.378197 -0.822654  4.412505      1      1\n",
              "1  0.112908  8.072768  9.914998      2      2\n",
              "2  1.875986 -2.862337  1.955307      1      1\n",
              "3 -1.210594  6.876798  9.223306      2      2\n",
              "4  2.095730  3.335208  3.288496      0      0"
            ]
          },
          "metadata": {
            "tags": []
          },
          "execution_count": 9
        }
      ]
    },
    {
      "cell_type": "code",
      "metadata": {
        "colab": {
          "base_uri": "https://localhost:8080/"
        },
        "id": "QuPWDEq-Rh7s",
        "outputId": "927cccbd-ce0c-44d8-dbab-73ae87308e9e"
      },
      "source": [
        "df_blobs[\"Label\"].value_counts()"
      ],
      "execution_count": null,
      "outputs": [
        {
          "output_type": "execute_result",
          "data": {
            "text/plain": [
              "1    667\n",
              "0    667\n",
              "2    666\n",
              "Name: Label, dtype: int64"
            ]
          },
          "metadata": {
            "tags": []
          },
          "execution_count": 10
        }
      ]
    },
    {
      "cell_type": "code",
      "metadata": {
        "colab": {
          "base_uri": "https://localhost:8080/"
        },
        "id": "PAV14rt1Rq39",
        "outputId": "50ca677c-dd84-4b0b-c60e-d4a16249dd34"
      },
      "source": [
        "# Checking encoded labels\n",
        "categories = list(label_encoder.inverse_transform([0, 1, 2,]))\n",
        "print(categories)"
      ],
      "execution_count": null,
      "outputs": [
        {
          "output_type": "stream",
          "text": [
            "[0, 1, 2]\n"
          ],
          "name": "stdout"
        }
      ]
    },
    {
      "cell_type": "code",
      "metadata": {
        "colab": {
          "base_uri": "https://localhost:8080/"
        },
        "id": "vxntwrm7R2jW",
        "outputId": "d5000163-128b-4d31-86ec-fa534f63f633"
      },
      "source": [
        "# Splitting the dataset into the Training set and Test set\n",
        "from sklearn.model_selection import train_test_split, cross_validate\n",
        "X_train, X_test, y_train,y_test = train_test_split(X, y, test_size = 0.30, random_state = 120)\n",
        "print(X_train)"
      ],
      "execution_count": null,
      "outputs": [
        {
          "output_type": "stream",
          "text": [
            "[[-0.46076671  7.56132248 11.30906633]\n",
            " [-2.123458    6.66603792 10.20393663]\n",
            " [ 0.74997075 -2.81197909  1.63114719]\n",
            " ...\n",
            " [ 0.19234901 -2.27067941  3.38409016]\n",
            " [ 1.03334175  0.06191932  2.53209057]\n",
            " [ 0.98450704 -1.58083416  2.12476001]]\n"
          ],
          "name": "stdout"
        }
      ]
    },
    {
      "cell_type": "code",
      "metadata": {
        "colab": {
          "base_uri": "https://localhost:8080/"
        },
        "id": "WUwqJpMaUb-g",
        "outputId": "fc9379d8-6c99-4b63-9de0-2a5f224f5a44"
      },
      "source": [
        "# Decision Tree\n",
        "from sklearn.tree import DecisionTreeClassifier\n",
        "\n",
        "clf = DecisionTreeClassifier(max_depth=2, random_state=32)\n",
        "clf.fit(X_train,y_train)\n",
        "print(\"Accuracy of train:\",clf.score(X_train,y_train))\n",
        "print(\"Accuracy of test:\",clf.score(X_test,y_test))"
      ],
      "execution_count": null,
      "outputs": [
        {
          "output_type": "stream",
          "text": [
            "Accuracy of train: 0.9992857142857143\n",
            "Accuracy of test: 0.9983333333333333\n"
          ],
          "name": "stdout"
        }
      ]
    },
    {
      "cell_type": "code",
      "metadata": {
        "colab": {
          "base_uri": "https://localhost:8080/",
          "height": 235
        },
        "id": "J-NKld88WdwO",
        "outputId": "78a92e20-f7b5-4727-e4fc-b160aff22107"
      },
      "source": [
        "# Visualization\n",
        "import os\n",
        "from sklearn.tree import export_graphviz\n",
        "import graphviz\n",
        "\n",
        "dot_data = export_graphviz(clf, out_file=None,\n",
        "                     class_names=classes,\n",
        "                     filled=True, rounded=True\n",
        "                    )\n",
        "graph = graphviz.Source(dot_data)\n",
        "graph"
      ],
      "execution_count": null,
      "outputs": [
        {
          "output_type": "execute_result",
          "data": {
            "image/svg+xml": "<?xml version=\"1.0\" encoding=\"UTF-8\" standalone=\"no\"?>\r\n<!DOCTYPE svg PUBLIC \"-//W3C//DTD SVG 1.1//EN\"\r\n \"http://www.w3.org/Graphics/SVG/1.1/DTD/svg11.dtd\">\r\n<!-- Generated by graphviz version 2.38.0 (20140413.2041)\r\n -->\r\n<!-- Title: Tree Pages: 1 -->\r\n<svg width=\"366pt\" height=\"314pt\"\r\n viewBox=\"0.00 0.00 366.00 314.00\" xmlns=\"http://www.w3.org/2000/svg\" xmlns:xlink=\"http://www.w3.org/1999/xlink\">\r\n<g id=\"graph0\" class=\"graph\" transform=\"scale(1 1) rotate(0) translate(4 310)\">\r\n<title>Tree</title>\r\n<polygon fill=\"white\" stroke=\"none\" points=\"-4,4 -4,-310 362,-310 362,4 -4,4\"/>\r\n<!-- 0 -->\r\n<g id=\"node1\" class=\"node\"><title>0</title>\r\n<path fill=\"#fafefc\" stroke=\"black\" d=\"M211.5,-306C211.5,-306 73.5,-306 73.5,-306 67.5,-306 61.5,-300 61.5,-294 61.5,-294 61.5,-235 61.5,-235 61.5,-229 67.5,-223 73.5,-223 73.5,-223 211.5,-223 211.5,-223 217.5,-223 223.5,-229 223.5,-235 223.5,-235 223.5,-294 223.5,-294 223.5,-300 217.5,-306 211.5,-306\"/>\r\n<text text-anchor=\"middle\" x=\"142.5\" y=\"-290.8\" font-family=\"Helvetica,sans-Serif\" font-size=\"14.00\">X[1] &lt;= 1.309</text>\r\n<text text-anchor=\"middle\" x=\"142.5\" y=\"-275.8\" font-family=\"Helvetica,sans-Serif\" font-size=\"14.00\">gini = 0.666</text>\r\n<text text-anchor=\"middle\" x=\"142.5\" y=\"-260.8\" font-family=\"Helvetica,sans-Serif\" font-size=\"14.00\">samples = 1400</text>\r\n<text text-anchor=\"middle\" x=\"142.5\" y=\"-245.8\" font-family=\"Helvetica,sans-Serif\" font-size=\"14.00\">value = [462, 484, 454]</text>\r\n<text text-anchor=\"middle\" x=\"142.5\" y=\"-230.8\" font-family=\"Helvetica,sans-Serif\" font-size=\"14.00\">class = 1</text>\r\n</g>\r\n<!-- 1 -->\r\n<g id=\"node2\" class=\"node\"><title>1</title>\r\n<path fill=\"#39e581\" stroke=\"black\" d=\"M117,-179.5C117,-179.5 12,-179.5 12,-179.5 6,-179.5 0,-173.5 0,-167.5 0,-167.5 0,-123.5 0,-123.5 0,-117.5 6,-111.5 12,-111.5 12,-111.5 117,-111.5 117,-111.5 123,-111.5 129,-117.5 129,-123.5 129,-123.5 129,-167.5 129,-167.5 129,-173.5 123,-179.5 117,-179.5\"/>\r\n<text text-anchor=\"middle\" x=\"64.5\" y=\"-164.3\" font-family=\"Helvetica,sans-Serif\" font-size=\"14.00\">gini = 0.0</text>\r\n<text text-anchor=\"middle\" x=\"64.5\" y=\"-149.3\" font-family=\"Helvetica,sans-Serif\" font-size=\"14.00\">samples = 483</text>\r\n<text text-anchor=\"middle\" x=\"64.5\" y=\"-134.3\" font-family=\"Helvetica,sans-Serif\" font-size=\"14.00\">value = [0, 483, 0]</text>\r\n<text text-anchor=\"middle\" x=\"64.5\" y=\"-119.3\" font-family=\"Helvetica,sans-Serif\" font-size=\"14.00\">class = 1</text>\r\n</g>\r\n<!-- 0&#45;&gt;1 -->\r\n<g id=\"edge1\" class=\"edge\"><title>0&#45;&gt;1</title>\r\n<path fill=\"none\" stroke=\"black\" d=\"M115.438,-222.907C107.935,-211.652 99.7789,-199.418 92.2375,-188.106\"/>\r\n<polygon fill=\"black\" stroke=\"black\" points=\"95.0705,-186.046 86.6113,-179.667 89.2462,-189.929 95.0705,-186.046\"/>\r\n<text text-anchor=\"middle\" x=\"81.7084\" y=\"-200.481\" font-family=\"Helvetica,sans-Serif\" font-size=\"14.00\">True</text>\r\n</g>\r\n<!-- 2 -->\r\n<g id=\"node3\" class=\"node\"><title>2</title>\r\n<path fill=\"#fffdfc\" stroke=\"black\" d=\"M281.5,-187C281.5,-187 159.5,-187 159.5,-187 153.5,-187 147.5,-181 147.5,-175 147.5,-175 147.5,-116 147.5,-116 147.5,-110 153.5,-104 159.5,-104 159.5,-104 281.5,-104 281.5,-104 287.5,-104 293.5,-110 293.5,-116 293.5,-116 293.5,-175 293.5,-175 293.5,-181 287.5,-187 281.5,-187\"/>\r\n<text text-anchor=\"middle\" x=\"220.5\" y=\"-171.8\" font-family=\"Helvetica,sans-Serif\" font-size=\"14.00\">X[2] &lt;= 5.691</text>\r\n<text text-anchor=\"middle\" x=\"220.5\" y=\"-156.8\" font-family=\"Helvetica,sans-Serif\" font-size=\"14.00\">gini = 0.501</text>\r\n<text text-anchor=\"middle\" x=\"220.5\" y=\"-141.8\" font-family=\"Helvetica,sans-Serif\" font-size=\"14.00\">samples = 917</text>\r\n<text text-anchor=\"middle\" x=\"220.5\" y=\"-126.8\" font-family=\"Helvetica,sans-Serif\" font-size=\"14.00\">value = [462, 1, 454]</text>\r\n<text text-anchor=\"middle\" x=\"220.5\" y=\"-111.8\" font-family=\"Helvetica,sans-Serif\" font-size=\"14.00\">class = 0</text>\r\n</g>\r\n<!-- 0&#45;&gt;2 -->\r\n<g id=\"edge2\" class=\"edge\"><title>0&#45;&gt;2</title>\r\n<path fill=\"none\" stroke=\"black\" d=\"M169.562,-222.907C175.43,-214.105 181.698,-204.703 187.759,-195.612\"/>\r\n<polygon fill=\"black\" stroke=\"black\" points=\"190.851,-197.283 193.486,-187.021 185.027,-193.4 190.851,-197.283\"/>\r\n<text text-anchor=\"middle\" x=\"198.389\" y=\"-207.835\" font-family=\"Helvetica,sans-Serif\" font-size=\"14.00\">False</text>\r\n</g>\r\n<!-- 3 -->\r\n<g id=\"node4\" class=\"node\"><title>3</title>\r\n<path fill=\"#e58139\" stroke=\"black\" d=\"M199,-68C199,-68 94,-68 94,-68 88,-68 82,-62 82,-56 82,-56 82,-12 82,-12 82,-6 88,-0 94,-0 94,-0 199,-0 199,-0 205,-0 211,-6 211,-12 211,-12 211,-56 211,-56 211,-62 205,-68 199,-68\"/>\r\n<text text-anchor=\"middle\" x=\"146.5\" y=\"-52.8\" font-family=\"Helvetica,sans-Serif\" font-size=\"14.00\">gini = 0.004</text>\r\n<text text-anchor=\"middle\" x=\"146.5\" y=\"-37.8\" font-family=\"Helvetica,sans-Serif\" font-size=\"14.00\">samples = 463</text>\r\n<text text-anchor=\"middle\" x=\"146.5\" y=\"-22.8\" font-family=\"Helvetica,sans-Serif\" font-size=\"14.00\">value = [462, 1, 0]</text>\r\n<text text-anchor=\"middle\" x=\"146.5\" y=\"-7.8\" font-family=\"Helvetica,sans-Serif\" font-size=\"14.00\">class = 0</text>\r\n</g>\r\n<!-- 2&#45;&gt;3 -->\r\n<g id=\"edge3\" class=\"edge\"><title>2&#45;&gt;3</title>\r\n<path fill=\"none\" stroke=\"black\" d=\"M192.945,-103.726C186.966,-94.879 180.635,-85.51 174.634,-76.6303\"/>\r\n<polygon fill=\"black\" stroke=\"black\" points=\"177.503,-74.6253 169.004,-68.2996 171.703,-78.5448 177.503,-74.6253\"/>\r\n</g>\r\n<!-- 4 -->\r\n<g id=\"node5\" class=\"node\"><title>4</title>\r\n<path fill=\"#8139e5\" stroke=\"black\" d=\"M346,-68C346,-68 241,-68 241,-68 235,-68 229,-62 229,-56 229,-56 229,-12 229,-12 229,-6 235,-0 241,-0 241,-0 346,-0 346,-0 352,-0 358,-6 358,-12 358,-12 358,-56 358,-56 358,-62 352,-68 346,-68\"/>\r\n<text text-anchor=\"middle\" x=\"293.5\" y=\"-52.8\" font-family=\"Helvetica,sans-Serif\" font-size=\"14.00\">gini = 0.0</text>\r\n<text text-anchor=\"middle\" x=\"293.5\" y=\"-37.8\" font-family=\"Helvetica,sans-Serif\" font-size=\"14.00\">samples = 454</text>\r\n<text text-anchor=\"middle\" x=\"293.5\" y=\"-22.8\" font-family=\"Helvetica,sans-Serif\" font-size=\"14.00\">value = [0, 0, 454]</text>\r\n<text text-anchor=\"middle\" x=\"293.5\" y=\"-7.8\" font-family=\"Helvetica,sans-Serif\" font-size=\"14.00\">class = 2</text>\r\n</g>\r\n<!-- 2&#45;&gt;4 -->\r\n<g id=\"edge4\" class=\"edge\"><title>2&#45;&gt;4</title>\r\n<path fill=\"none\" stroke=\"black\" d=\"M247.683,-103.726C253.581,-94.879 259.827,-85.51 265.746,-76.6303\"/>\r\n<polygon fill=\"black\" stroke=\"black\" points=\"268.665,-78.5616 271.3,-68.2996 262.841,-74.6787 268.665,-78.5616\"/>\r\n</g>\r\n</g>\r\n</svg>\r\n",
            "text/plain": [
              "<graphviz.files.Source at 0x2d04680b940>"
            ]
          },
          "metadata": {
            "tags": []
          },
          "execution_count": 78
        }
      ]
    },
    {
      "cell_type": "code",
      "metadata": {
        "id": "Ks7lKCd7sOhW",
        "outputId": "5c0e29eb-8b56-4072-fba8-010ba76cab61"
      },
      "source": [
        "# XGBoos\n",
        "import xgboost as xgb\n",
        "\n",
        "dmatrix_train = xgb.DMatrix(data=X_train, label=y_train)\n",
        "dmatrix_test = xgb.DMatrix(data=X_test, label=y_test)\n",
        "\n",
        "param = {'max_depth':3, \n",
        "         'eta':1, \n",
        "         'objective':'multi:softprob', \n",
        "         'num_class':3}\n",
        "\n",
        "num_round = 5\n",
        "model = xgb.train(param, dmatrix_train, num_round)\n",
        "\n",
        "preds = model.predict(dmatrix_test)\n",
        "preds[:10]"
      ],
      "execution_count": null,
      "outputs": [
        {
          "output_type": "execute_result",
          "data": {
            "text/plain": [
              "array([[0.00197459, 0.99619377, 0.00183163],\n",
              "       [0.00200238, 0.00184313, 0.9961545 ],\n",
              "       [0.99605274, 0.00197693, 0.0019703 ],\n",
              "       [0.00200238, 0.00184313, 0.9961545 ],\n",
              "       [0.00197459, 0.99619377, 0.00183163],\n",
              "       [0.9963188 , 0.0018437 , 0.00183751],\n",
              "       [0.00197459, 0.99619377, 0.00183163],\n",
              "       [0.00197459, 0.99619377, 0.00183163],\n",
              "       [0.9963188 , 0.0018437 , 0.00183751],\n",
              "       [0.00197728, 0.996191  , 0.00183163]], dtype=float32)"
            ]
          },
          "metadata": {
            "tags": []
          },
          "execution_count": 79
        }
      ]
    },
    {
      "cell_type": "code",
      "metadata": {
        "id": "ZdKqD6AbsOhY",
        "outputId": "95f6665d-ae84-4cec-aa88-8d1158336263"
      },
      "source": [
        "best_preds = np.asarray([np.argmax(line) for line in preds])\n",
        "best_preds"
      ],
      "execution_count": null,
      "outputs": [
        {
          "output_type": "execute_result",
          "data": {
            "text/plain": [
              "array([1, 2, 0, 2, 1, 0, 1, 1, 0, 1, 0, 2, 0, 1, 1, 1, 1, 1, 0, 2, 1, 1,\n",
              "       1, 1, 0, 0, 2, 2, 1, 0, 1, 1, 0, 2, 2, 0, 1, 1, 1, 2, 0, 1, 2, 1,\n",
              "       1, 0, 1, 2, 2, 0, 1, 2, 2, 0, 1, 2, 2, 0, 0, 2, 2, 1, 0, 0, 2, 2,\n",
              "       1, 0, 1, 0, 2, 0, 1, 1, 0, 2, 2, 0, 1, 1, 1, 1, 1, 1, 2, 2, 0, 0,\n",
              "       0, 0, 2, 1, 2, 2, 1, 0, 0, 2, 2, 1, 1, 0, 1, 2, 1, 2, 2, 1, 1, 2,\n",
              "       0, 0, 0, 2, 2, 1, 1, 0, 1, 0, 2, 2, 2, 0, 1, 2, 2, 1, 1, 0, 2, 2,\n",
              "       0, 0, 0, 2, 1, 1, 1, 0, 0, 2, 2, 1, 2, 1, 1, 2, 1, 0, 2, 0, 1, 0,\n",
              "       1, 1, 2, 0, 2, 2, 2, 0, 0, 0, 0, 2, 1, 0, 0, 2, 0, 1, 0, 2, 0, 0,\n",
              "       2, 0, 1, 1, 1, 2, 2, 2, 2, 0, 0, 2, 2, 2, 0, 0, 0, 1, 0, 0, 0, 2,\n",
              "       1, 2, 0, 2, 0, 2, 2, 2, 0, 0, 0, 1, 0, 0, 2, 0, 2, 2, 0, 1, 0, 2,\n",
              "       2, 2, 0, 2, 2, 0, 2, 0, 1, 0, 1, 1, 2, 0, 2, 1, 1, 0, 0, 0, 0, 2,\n",
              "       1, 0, 0, 0, 2, 0, 1, 0, 2, 1, 2, 1, 0, 0, 0, 1, 0, 0, 1, 2, 2, 0,\n",
              "       2, 1, 0, 2, 2, 0, 1, 2, 2, 2, 0, 2, 1, 0, 0, 0, 2, 0, 1, 2, 2, 0,\n",
              "       1, 2, 1, 1, 1, 1, 1, 0, 0, 0, 1, 0, 1, 0, 1, 2, 1, 0, 0, 0, 2, 1,\n",
              "       1, 2, 1, 0, 0, 0, 0, 2, 1, 1, 0, 0, 2, 2, 2, 2, 2, 2, 1, 0, 0, 1,\n",
              "       0, 0, 1, 2, 0, 2, 0, 0, 2, 2, 2, 0, 2, 1, 2, 2, 0, 0, 1, 1, 1, 0,\n",
              "       1, 1, 0, 0, 0, 0, 2, 1, 1, 0, 0, 0, 0, 1, 2, 2, 2, 1, 2, 0, 0, 0,\n",
              "       2, 2, 2, 1, 2, 2, 2, 0, 0, 2, 2, 1, 0, 1, 0, 2, 2, 2, 0, 1, 2, 2,\n",
              "       1, 0, 1, 0, 2, 2, 2, 0, 2, 1, 1, 1, 0, 1, 2, 2, 0, 2, 0, 1, 2, 0,\n",
              "       2, 1, 2, 2, 2, 0, 2, 2, 0, 0, 2, 1, 1, 2, 2, 1, 1, 1, 0, 2, 1, 2,\n",
              "       1, 2, 1, 1, 1, 1, 2, 1, 2, 2, 1, 2, 2, 1, 1, 1, 0, 0, 1, 2, 1, 1,\n",
              "       2, 1, 1, 0, 0, 2, 2, 2, 0, 2, 1, 1, 1, 2, 1, 1, 2, 0, 2, 2, 2, 1,\n",
              "       2, 0, 0, 0, 2, 2, 1, 1, 2, 0, 1, 1, 0, 2, 1, 0, 0, 0, 2, 1, 0, 2,\n",
              "       0, 2, 2, 2, 2, 0, 0, 1, 2, 1, 2, 2, 2, 0, 0, 2, 2, 0, 1, 1, 0, 2,\n",
              "       0, 0, 1, 0, 1, 2, 2, 0, 1, 0, 1, 0, 2, 2, 2, 1, 0, 1, 1, 0, 0, 2,\n",
              "       0, 1, 1, 1, 2, 2, 2, 1, 0, 1, 0, 0, 2, 0, 1, 1, 2, 1, 0, 2, 0, 2,\n",
              "       1, 0, 0, 0, 2, 2, 0, 1, 1, 2, 1, 2, 0, 0, 2, 0, 2, 0, 2, 0, 2, 1,\n",
              "       1, 0, 1, 0, 2, 2], dtype=int64)"
            ]
          },
          "metadata": {
            "tags": []
          },
          "execution_count": 80
        }
      ]
    },
    {
      "cell_type": "code",
      "metadata": {
        "scrolled": true,
        "id": "C5pMND2XsOhZ",
        "outputId": "0d9c0617-8b56-424c-f693-18cbe30ef2ce"
      },
      "source": [
        "# Classification Report\n",
        "from sklearn.metrics import precision_score, recall_score, accuracy_score, classification_report, f1_score\n",
        "pred = clf.predict(X_test)\n",
        "print(classification_report(y_test,pred))"
      ],
      "execution_count": null,
      "outputs": [
        {
          "output_type": "stream",
          "text": [
            "              precision    recall  f1-score   support\n",
            "\n",
            "           0       1.00      1.00      1.00       205\n",
            "           1       0.99      1.00      1.00       183\n",
            "           2       1.00      1.00      1.00       212\n",
            "\n",
            "    accuracy                           1.00       600\n",
            "   macro avg       1.00      1.00      1.00       600\n",
            "weighted avg       1.00      1.00      1.00       600\n",
            "\n"
          ],
          "name": "stdout"
        }
      ]
    },
    {
      "cell_type": "code",
      "metadata": {
        "id": "HOL_cwu3sOha",
        "outputId": "30116d36-3eff-4322-b59e-b91660641fbc"
      },
      "source": [
        "print(\"Precision = {}\".format(precision_score(y_test, pred, average='macro')))\n",
        "print(\"Recall = {}\".format(recall_score(y_test, pred, average='macro')))\n",
        "print(\"Accuracy = {}\".format(accuracy_score(y_test, pred)))\n",
        "print(\"F1 Score = {}\".format(f1_score(y_test, pred,average='macro')))"
      ],
      "execution_count": null,
      "outputs": [
        {
          "output_type": "stream",
          "text": [
            "Precision = 0.9981884057971014\n",
            "Recall = 0.9983739837398374\n",
            "Accuracy = 0.9983333333333333\n",
            "F1 Score = 0.9982767388615373\n"
          ],
          "name": "stdout"
        }
      ]
    },
    {
      "cell_type": "markdown",
      "metadata": {
        "id": "JO5ML5i3sTun"
      },
      "source": [
        "The accuracy of the training and test set is approximately 1. Therefore, there is a problem of underfitting and overfitting."
      ]
    }
  ]
}